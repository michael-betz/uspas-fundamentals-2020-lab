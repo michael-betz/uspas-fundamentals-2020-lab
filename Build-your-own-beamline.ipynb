{
 "cells": [
  {
   "cell_type": "markdown",
   "metadata": {},
   "source": [
    "![alt text](uspas.png)\n",
    "# Fundamentals of Accelerator Physics and Technology \n",
    "### (with Simulations and Measurements Lab)\n",
    "# Computer Lab (Extra Credit): Build your own beamline!\n",
    "##### Author: K. Ruisard\n",
    "\n",
    "## We will be simulating beam transport in simple beamlines. To do this, we will be running the Elegant code in the [Sirepo](https://beta.sirepo.com) environment. Questions to be turned in for credit are in **bold** and numbered.\n",
    "### Python Notes: \n",
    "- You wont need much python specific code for this lab, but here are some tips:\n",
    "- Press shift+enter to execute a cell, or use the play button at the top of the window\n",
    "- Make sure you exectue cells in order, or re-exectue cells if you change something at the top of the notebook.\n",
    "- You can also exectue the whole notebook by using 'Run all cells' under the 'Run' tab.\n",
    "----------"
   ]
  },
  {
   "cell_type": "markdown",
   "metadata": {},
   "source": [
    "## Design your own beamline \n",
    "\n",
    "FODO is the most commonly-cited example of periodic transverse focusing, but it is far from the only option. Depending on the application, other configurations may be used. For example, light sources use optics optimized for dispersion-free regions. Collider rings require optics that create a small spot-size at the interaction point. \n",
    "\n",
    "Open simulation “FODObeamline.” Copy it to your own session (there should be a prompt).\n",
    "> https://www.sirepo.com/elegant#/source/NYrwE02y\n",
    "\n",
    "If the link doesn't work, there is .zip file available here, which can be imported into Sirepo:\n",
    "> https://github.com/uspas/fundamentals-labs/raw/master/FODObeamline.zip\n",
    "\n",
    "We will try examining a different type of periodic focusing system designed by you.\n",
    "\n",
    "Under “Lattice” tab: Construct a single cell consisting of two or more quadrupoles and find the periodic solution. \n",
    "- Keep in mind that for the “alternating gradient” property of quadrupole lattices, we require both polarities (F & D) for stability.\n",
    "- hint: You can re-use the existing beamline elements and/or create new elements. \n",
    "- Add a new beamline under the “Beamlines” box; drag and drop elements to the beamline editor to create your cell.)\n",
    "\n",
    "Some Inspiration:\n",
    "- Non-FODO doublet -F-D- (L_1≠L_2)\n",
    "- triplet: -F-D-F \n",
    "- quadruplet F-D-D-F or F-F-D-D\n",
    "\n",
    "Under “Control” tab: Set “Matching=Yes” under the twiss_output command. Keep all beam parameters the same. \n",
    "- You may delete the “track” command to speed up simulation. \n",
    "- Elegant will only calculate the Twiss solution and not propagate particles.\n",
    "\n",
    "Under “Visualization” tab: Make sure to switch to your custom cell and then run simulation.\n",
    "- If there is no periodic solution, Elegant will tell you that x or y planes (or both) are unstable. \n",
    "- Adjust beamline elements/parameters and try again.  \n",
    "\n",
    "**Q1) Once you’ve found a cell with a periodic solution, attach a copy of your Twiss solution (print out, copy/paste or sketch) and calculate the following quantities for the cell:**"
   ]
  },
  {
   "cell_type": "markdown",
   "metadata": {},
   "source": [
    "$\\psi_x = $\n",
    "\n",
    "$\\psi_y = $\n",
    "\n",
    "max $\\sigma_x = $\n",
    "\n",
    "min $\\sigma_x = $\n",
    "\n",
    "max $\\sigma_y = $\n",
    "\n",
    "min $\\sigma_y = $\n",
    "\n",
    "$<\\sigma_x>$  = \n",
    "\n",
    "max⁡ $\\frac{\\sigma_{x}}{\\sigma_{y}}=$"
   ]
  },
  {
   "cell_type": "markdown",
   "metadata": {},
   "source": [
    "**Q2) If time permits, create a transport line out of 10 – 20 repetitions of your cell. Initialize beam with a 10% mismatch; you should observe the same 1:2 ratio between betatron (centroid) and envelope (mismatch) oscillation frequencies.**"
   ]
  }
 ],
 "metadata": {
  "kernelspec": {
   "display_name": "Python 3",
   "language": "python",
   "name": "python3"
  },
  "language_info": {
   "codemirror_mode": {
    "name": "ipython",
    "version": 3
   },
   "file_extension": ".py",
   "mimetype": "text/x-python",
   "name": "python",
   "nbconvert_exporter": "python",
   "pygments_lexer": "ipython3",
   "version": "3.9.1+"
  }
 },
 "nbformat": 4,
 "nbformat_minor": 2
}
