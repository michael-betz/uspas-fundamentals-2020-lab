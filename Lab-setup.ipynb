{
 "cells": [
  {
   "cell_type": "markdown",
   "metadata": {},
   "source": [
    "![alt text](uspas.png)\n",
    "# Fundamentals of Accelerator Physics and Technology \n",
    "### (with Simulations and Measurements Lab)\n",
    "# Computer Lab: Setting up Python and JupyterLab\n",
    "##### Author: N. Neveu\n",
    "### Notes: \n",
    "#### If you already have Python and JupyterLab installed on your laptop, you can skip this.\n",
    "#### You can use the lab computers if you do not want to install python on your laptop.\n",
    "----------"
   ]
  },
  {
   "cell_type": "markdown",
   "metadata": {},
   "source": [
    "## 1. Install python 3.x by downloading Anaconda. \n",
    "\n",
    "- Anaconda is a 'distribution' that contains python and many common libraries. \n",
    "- This package will have all the libraries you need for the labs. \n",
    "- Follow the installation instructions here (Choose your OS type on the left side of the screen): \n",
    "> https://docs.anaconda.com/anaconda/install/windows/\n",
    "----"
   ]
  },
  {
   "cell_type": "markdown",
   "metadata": {},
   "source": [
    "## 2. Check that your Python install is working.\n",
    "a) Open a terminal. You can do this two ways;  \n",
    "from the Anaconda home page or using finder / command prompt.\n",
    "Here are links for both methods:\n",
    "\n",
    "From Anaconda (recommended for windows users):\n",
    "- open navigator https://docs.anaconda.com/anaconda/user-guide/getting-started/\n",
    "- Under evnviornments, right click base root:\n",
    "\n",
    "![alt text](anaconda-terminal.png)\n",
    "\n",
    "\n",
    "Or, the old fashioned way:\n",
    "- Mac: https://www.wikihow.com/Open-a-Terminal-Window-in-Mac\n",
    "- Windows: https://www.howtogeek.com/235101/10-ways-to-open-the-command-prompt-in-windows-10/\n",
    "On windows, there may be some issues finding the Anaconda/python path this way.\n",
    "\n",
    "\n",
    "b) In the terminal, copy paste or type the following to check your python version (You should see a version number 3.x.x):\n",
    "```\n",
    "python --version\n",
    "```\n",
    "----\n"
   ]
  },
  {
   "cell_type": "markdown",
   "metadata": {},
   "source": [
    "## 3. Install JupyterLab with Anaconda\n",
    "a) In your open terminal, copy/paste or type the following:\n",
    "```\n",
    "conda install -c conda-forge jupyterlab\n",
    "```\n",
    "\n",
    "b) You can open JupyterLab using the same terminal. Try:\n",
    "```\n",
    "jupyter lab\n",
    "```\n",
    "\n",
    "If that command doesn't work, you may need the version number of your python. \n",
    "\n",
    "Use the version number from #2: \n",
    "```\n",
    "jupyter-3.x lab\n",
    "```\n",
    "---"
   ]
  },
  {
   "cell_type": "markdown",
   "metadata": {},
   "source": [
    "## 4. Open a Jupyter notebook on your computer.\n",
    "\n",
    "a) Clone or download the USPAS notebooks at this link:\n",
    "- https://github.com/nneveu/USPAS-fundamentals-labs\n",
    "- Remeber what folder you downloaded them to on your computer.\n",
    "\n",
    "b) Open a new terminal. You can close the old one.\n",
    "\n",
    "c) Navigate to the folder where you downloaded the notebooks.\n",
    "- This will require that you use 'cd' on the command line: \n",
    "> https://www.wikihow.com/Change-Directories-in-Command-Prompt\n",
    "- On my Mac, here is what the command looks like:\n",
    "\n",
    "```\n",
    "cd Documents/USPAS-fundamentals/\n",
    "```\n",
    "\n",
    "d) When you are in the correct directory, open JupyterLab:\n",
    "```\n",
    "jupyter lab\n",
    "```\n",
    "Or, using the version number: \n",
    "```\n",
    "jupyter-3.x lab\n",
    "```\n",
    "\n",
    "Your internet browser should now open up and give you the option to open the Lab notebooks.  \n",
    "Look around at the options, and make sure you can open all the notebooks."
   ]
  }
 ],
 "metadata": {
  "kernelspec": {
   "display_name": "Python 3",
   "language": "python",
   "name": "python3"
  },
  "language_info": {
   "codemirror_mode": {
    "name": "ipython",
    "version": 3
   },
   "file_extension": ".py",
   "mimetype": "text/x-python",
   "name": "python",
   "nbconvert_exporter": "python",
   "pygments_lexer": "ipython3",
   "version": "3.9.1rc1"
  }
 },
 "nbformat": 4,
 "nbformat_minor": 2
}
