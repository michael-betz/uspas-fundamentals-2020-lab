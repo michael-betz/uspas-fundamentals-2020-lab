{
 "cells": [
  {
   "cell_type": "markdown",
   "metadata": {},
   "source": [
    "![alt text](uspas.png)\n",
    "# Fundamentals of Accelerator Physics and Technology \n",
    "### (with Simulations and Measurements Lab)\n",
    "# Computer Lab: Transport-Dispersion and Chromaticity in Simulated Beam Transport\n",
    "##### Author: K. Ruisard\n",
    "\n",
    "## We will be simulating beam transport in simple beamlines. To do this, we will be running the Elegant code in the [Sirepo](https://beta.sirepo.com) environment. Questions to be turned in for credit are in **bold** and numbered.\n",
    "### Python Notes: \n",
    "- You wont need much python specific code for this lab, but here are some tips:\n",
    "- Press shift+enter to execute a cell, or use the play button at the top of the window\n",
    "- Make sure you exectue cells in order, or re-exectue cells if you change something at the top of the notebook.\n",
    "- You can also exectue the whole notebook by using 'Run all cells' under the 'Run' tab.\n",
    "----------"
   ]
  },
  {
   "cell_type": "markdown",
   "metadata": {},
   "source": [
    "## 1. Setup\n",
    "\n",
    "At injection (or at the start of a simulation), there is an optimal spot-size and divergence for the beam known as the “matched condition.” In a periodic focusing structure (ie, FODO line), the matched solution will be periodic as well. \n",
    "\n",
    "We define the matched solution using the Twiss parameters $\\beta_x$, $\\beta_y$, $\\alpha_x$, $\\alpha_y$ (the spotsize and angular divergence are related to the Twiss parameters through the beam emittance). In this part of the exercise we will calculate matched beam properties for a simple FODO transport line and observe the difference in matched and unmatched transport.\n",
    "\n",
    "| Species  | Election  |   \n",
    "|---|---| \n",
    "| Energy  | 1 GeV  |   \n",
    "|  X emittance | $\\epsilon_x = 6$ mm-mrad  |  \n",
    "|  Y emittance |  $\\epsilon_y = 6$ mm-mrad |  \n",
    "|  Quadrupole geometric strength | K = 0.6 $m^{-2}$|\n",
    "|  FODO cell length | $L = 5$ m|\n",
    "\n",
    "\n",
    "A) Open simulation “FODObeamline.” Copy it to your own session (there should be a prompt).\n",
    "> https://www.sirepo.com/elegant#/source/NYrwE02y\n",
    "\n",
    "If the link doesn't work, there is .zip file available here, which can be imported into Sirepo:\n",
    "> https://github.com/uspas/fundamentals-labs/raw/master/FODObeamline.zip\n",
    "\n",
    "This simulates a simple beamline composed of a sequence of FODO cells: \n",
    "- Focusing Quad \n",
    "- Drift \n",
    "- Defocusing Quad \n",
    "- Drift\n",
    "\n",
    "This simulation uses a matrix representation of all elements to propagate the Twiss parameters $\\beta_x$, $\\beta_y$, $\\alpha_x$, $\\alpha_y$, as well as propagate orbits for a collection of particles that represent the beam distribution. We’re using 5000 particles to represent the beam. \n",
    "\n",
    "B) At the top of the page, click the \"Control\" tab, and look at the options.\n",
    "- The “twiss_output” module controls calculation of the Twiss parameters.\n",
    "- The “bunched_beam” module tells Elegant to generate a beam. \n",
    "- The “track” module tells Elegant to track it through the lattice. \n",
    "\n",
    "----"
   ]
  },
  {
   "cell_type": "markdown",
   "metadata": {},
   "source": [
    "## 2. Beamline Matching\n",
    "### A) Unmatched Beam \n",
    "\n",
    "Initially, the lattice functions are unmatched. We start with $\\beta_x = \\beta_y =$ 4 m, $\\alpha_x = \\alpha_y = 0$ mid-cell (between quadrupoles). \n",
    "\n",
    "Under the “Visualization” Tab: \n",
    "- Run the simulation by selecting “Start New Simulation.”\n",
    "- Scroll down to find the twiss “twiss_output”. You should see that the lattice functions $\\beta_x$, $\\beta_y$ propagated from the initial conditions are “unmatched\", i.e. the solutions are not periodic. \n",
    "- Similarly, look at the “sigma_output” plot. You should see that the RMS beam sizes S_x,S_y resemble $\\beta_x$, $\\beta_y$ but at a smaller, millimeter-level scale.\n"
   ]
  },
  {
   "cell_type": "markdown",
   "metadata": {},
   "source": [
    "### B) Solving for matched solution\n",
    "\n",
    "In the “Control” tab: \n",
    "- Edit the twiss_output command. On page 1, change “Matched” from “No” to “Yes.” \n",
    "- This instructs Elegant to search for the matched condition. \n",
    "- Save changes and re-run your simulation. (Make sure you are running the beamline “FODOcell”)\n",
    "\n",
    "From the matched lattice function, we can calculate phase advance: \n",
    "- $\\psi_x=\\int \\frac{ds}{\\beta_x(s)}$\n",
    "- Thankfully, Elegant calculates this for you. \n",
    "\n",
    "**Q0) In the next cell, calculate the X and Y phase advances for the single FODO cell. (Search for nux and nuy under “Output Parameters” and recall $\\psi=\\nu*2\\pi$)**"
   ]
  },
  {
   "cell_type": "markdown",
   "metadata": {},
   "source": [
    "$\\psi_x$ = \n",
    "\n",
    "$\\psi_y$ = \n",
    "\n",
    "\n",
    "These are the “phase advance per cell,” which is an important metric for characterizing transport properties of any periodic lattice. The phase advance has to be chosen to avoid instabilities and resonant conditions."
   ]
  },
  {
   "cell_type": "markdown",
   "metadata": {},
   "source": [
    "## 3. Dispersion and Chromaticity\n",
    "\n",
    "### A) Dispersion in FODO lattice\n",
    "\n",
    "In other labs, we simulate beamlines without dipoles. Dipoles create dispersion ($\\eta$ or D, depending who you talk to), which describes the evolution of transverse size for particles/beams that are off-momentum. Off-momentum particles experience a different force in the dipole than the design orbit, as they have different magnetic rigidity $B\\rho=\\frac{p}{q}$. Dispersion can be calculated as a function of s and can have a periodic (matched) solution, similar to the $\\beta$ and $\\alpha$ functions.\n",
    "\n",
    "The initial conditions for this simulation are the same as in the table above.\n",
    "\n",
    "Open a new copy of the simulation “FODObeamline.” to go back to the initial values:\n",
    "> https://www.sirepo.com/elegant#/source/NYrwE02y\n",
    "\n",
    "- Go to Visualization tab at top of the page.\n",
    "- Change simulation to run over 1 cell (simulate beamline “FODOcell” in the drop down box). Start the simulation.\n",
    "- Note the Sx and Sy values in the run_setup.sigma plot."
   ]
  },
  {
   "cell_type": "markdown",
   "metadata": {},
   "source": [
    "Next, add a dipole SBEND element to your FODO cell: \n",
    "- Go to the 'Lattice Tab' at the top of the screen\n",
    "- Under 'Beamlines', hover over FODOcell, and click 'Edit'\n",
    "- Replace the 2 meter drift (D2) with two 0.75 meter drifts (D3). \n",
    "- Sandwich a dipole between the two difts (0.5 m, 20 deg dipole - element CSBEND):\n",
    "![alt text](dipole.png)\n",
    "- You can add your new element in by dragging and dropping the name from the right hand side into the left hand side.\n",
    "- Under Tab: Control -> twiss_output, Change Matched to Yes (page 1). \n",
    "- Go to Visualization tab at top of the page.\n",
    "- Change simulation to run over 1 cell (simulate beamline “FODOcell” in the drop down box). \n",
    "\n",
    "Scroll down and to the twiss_output plot.\n",
    "Observe dispersion $\\eta_x$ (etax). \n",
    "- hint: to see dispersion function at an appropriate scale, turn off $\\beta_x$ and $\\beta_y$ curves in plot edit dialog (pencil icon).\n",
    "\n",
    "Also observe the effect of dispersion in the beam moments (sigma_output) plot.  \n",
    "You should observe that Sy remains the same as before, while Sx has much larger maxima."
   ]
  },
  {
   "cell_type": "markdown",
   "metadata": {},
   "source": [
    "**Q1) What is minimum dispersion in this lattice?**\n",
    "\n",
    "min⁡ $\\eta_x=$ "
   ]
  },
  {
   "cell_type": "markdown",
   "metadata": {},
   "source": [
    "**Q2) Assuming a 0.1% ($\\Delta p/p $) energy spread in the beam, what is the horizontal beam size we expect in the focusing quadrupole QF? How does this compare to our beam size without energy spread?**\n",
    "\n",
    "hint: $\\sigma_x^2 = \\epsilon_x \\beta_x+ \\eta_{max}^2 \\frac{\\Delta p}{p_0} $\n",
    "\n",
    "hint: Use max eta and the $\\epsilon_x$ from above."
   ]
  },
  {
   "cell_type": "markdown",
   "metadata": {},
   "source": [
    "$\\sigma_x = $"
   ]
  },
  {
   "cell_type": "markdown",
   "metadata": {},
   "source": [
    "### B) Zero-dispersion insert\n",
    "\n",
    "Open simulation DispersionFree (copy the simulation):\n",
    "> https://www.sirepo.com/elegant#/source/dW4biLsM\n",
    "\n",
    "Alternatively: Project file\n",
    "> https://github.com/uspas/fundamentals-labs/raw/master/DispersionFree.zip\n",
    "\n",
    "The lattice cell in this simulation has two 20-degree bends and five quadrupoles.  \n",
    "The quadrupoles are initially set to zero-strength and matching is disabled.  \n",
    "- Run the simulation and observe the evolution of the dispersion $\\eta_x$ through the double bend.\n"
   ]
  },
  {
   "cell_type": "markdown",
   "metadata": {},
   "source": [
    "**Q3) What is $\\eta_x$ and $\\eta_x'$ at the end of the cell?**"
   ]
  },
  {
   "cell_type": "markdown",
   "metadata": {},
   "source": [
    "- Go to 'Lattice' at the top of the page.\n",
    "- “Turn on” the middle quadrupole (Q1) at $k_1=1$ 𝑚−2. Note the effect this has on the dispersion function.\n",
    "- Adjust the strength of Q1 to find the solution for which dispersion is zero after the two bends.\n",
    "- Hint: you will need to restart the simulation after you change K. "
   ]
  },
  {
   "cell_type": "markdown",
   "metadata": {},
   "source": [
    "**Q4) What is the strength you found?** $k_1$ ="
   ]
  },
  {
   "cell_type": "markdown",
   "metadata": {},
   "source": [
    "Enable matching (Under in Control tab -> twiss_output command -> set “Matched” to “yes”).  \n",
    "- Run simulation; you should see that beamline is unstable, i.e. there are no periodic solutions. \n",
    "Let’s add some additional focusing to correct that.\n",
    "- “Turn on” the flanking quadrupoles by setting Q2: $k_1=1.3$ 𝑚−2 and Q3: $k_1=-1.6$ 𝑚−2. \n",
    "- Re-run to find matched solution.\n",
    "\n",
    "Congrats! You’ve made a double-bend achromat.  \n",
    "This is useful for light sources, where zero-dispersion drifts are used for placing radiation-generating inserts like undulators and wigglers."
   ]
  },
  {
   "cell_type": "markdown",
   "metadata": {},
   "source": [
    "### C) Tune in a ring\n",
    "\n",
    "Repeat your cell 9 times to create a ring. \n",
    "- Under the Lattice tab, make a new beamilne. \n",
    "- Fill it with DBA elements.\n",
    "- Rerun the simulation under the Visualization tab.\n",
    "- Make sure you select your new beamline from the drop down menu.\n",
    "\n",
    "**Q5) Record x and y tunes (to 3 significant figures):**\n",
    "\n",
    "Look for nux and nuy in the parameters list."
   ]
  },
  {
   "cell_type": "markdown",
   "metadata": {},
   "source": [
    "\n",
    "$\\nu_x = $   \n",
    "$\\nu_y = $"
   ]
  },
  {
   "cell_type": "markdown",
   "metadata": {},
   "source": [
    "**Q6) Did you expect the tunes to be split in the way that they are?  \n",
    "What is a nearby resonant stop-band ($\\nu =\\frac{n}{m}$ for integer m,n) that might be a concern for this lattice (for either plane x or y)?**\n",
    "\n",
    "Hint: consider only low-order resonances with m<=4 \n",
    "\n",
    "---"
   ]
  },
  {
   "cell_type": "markdown",
   "metadata": {},
   "source": [
    "Note that this lattice still has chromaticity; that is, although off-momentum particles will not increase the beam size in the dispersion-free drifts, they will still feel different focusing strength and have a tune different from the on-momentum particles.  "
   ]
  },
  {
   "cell_type": "markdown",
   "metadata": {},
   "source": [
    "**Q7) For a 0.1% energy spread in the beam, what is the spread of tunes due to chromaticity?**\n",
    "\n",
    "$\\Delta \\nu_x = C_x \\frac{\\Delta p}{p_0}$ (hint: in Elegant Twiss output, look for dnux/dp and dnuy/dp for chromaticity values) "
   ]
  },
  {
   "cell_type": "markdown",
   "metadata": {},
   "source": [
    "**Q8) Will this tune spread push particles onto the nearby low-order resonances identified above?**"
   ]
  }
 ],
 "metadata": {
  "kernelspec": {
   "display_name": "Python 3",
   "language": "python",
   "name": "python3"
  },
  "language_info": {
   "codemirror_mode": {
    "name": "ipython",
    "version": 3
   },
   "file_extension": ".py",
   "mimetype": "text/x-python",
   "name": "python",
   "nbconvert_exporter": "python",
   "pygments_lexer": "ipython3",
   "version": "3.9.1+"
  }
 },
 "nbformat": 4,
 "nbformat_minor": 4
}
