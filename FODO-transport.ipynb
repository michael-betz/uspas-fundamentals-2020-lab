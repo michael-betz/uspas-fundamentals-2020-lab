{
 "cells": [
  {
   "cell_type": "markdown",
   "metadata": {},
   "source": [
    "![alt text](uspas.png)\n",
    "# Fundamentals of Accelerator Physics and Technology \n",
    "### (with Simulations and Measurements Lab)\n",
    "# Computer Lab: Simulated beam transport in a FODO line\n",
    "##### Author: K. Ruisard\n",
    "\n",
    "## We will be simulating beam transport in simple beamlines. To do this, we will be running the Elegant code in the [Sirepo](https://beta.sirepo.com) environment. Questions to be turned in for credit are in **bold** and numbered.\n",
    "### Python Notes: \n",
    "- You wont need much python specific code for this lab, but here are some tips:\n",
    "- Press shift+enter to execute a cell, or use the play button at the top of the window\n",
    "- Make sure you exectue cells in order, or re-exectue cells if you change something at the top of the notebook.\n",
    "- You can also exectue the whole notebook by using 'Run all cells' under the 'Run' tab.\n",
    "----------"
   ]
  },
  {
   "cell_type": "markdown",
   "metadata": {},
   "source": [
    "## 1. Setup\n",
    "\n",
    "At injection (or at the start of a simulation), there is an optimal spot-size and divergence for the beam known as the “matched condition.” In a periodic focusing structure (ie, FODO line), the matched solution will be periodic as well. \n",
    "\n",
    "We define the matched solution using the Twiss parameters $\\beta_x$, $\\beta_y$, $\\alpha_x$, $\\alpha_y$ (the spotsize and angular divergence are related to the Twiss parameters through the beam emittance). In this part of the exercise we will calculate matched beam properties for a simple FODO transport line and observe the difference in matched and unmatched transport.\n",
    "\n",
    "| Species  | Election  |   \n",
    "|---|---| \n",
    "| Energy  | 1 GeV  |   \n",
    "|  X emittance | $\\epsilon_x = 6$ mm-mrad  |  \n",
    "|  Y emittance |  $\\epsilon_y = 6$ mm-mrad |  \n",
    "|  Quadrupole geometric strength | K = 0.6 $m^{-2}$|\n",
    "|  FODO cell length | $L = 5$ m|\n",
    "\n",
    "\n",
    "A) Open simulation “FODObeamline.” Copy it to your own session (there should be a prompt).\n",
    "> https://www.sirepo.com/elegant#/source/NYrwE02y\n",
    "\n",
    "If the link doesn't work, there is .zip file available here, which can be imported into Sirepo:\n",
    "> https://github.com/uspas/fundamentals-labs/raw/master/FODObeamline.zip\n",
    "\n",
    "This simulates a simple beamline composed of a sequence of FODO cells: \n",
    "- Focusing Quad \n",
    "- Drift \n",
    "- Defocusing Quad \n",
    "- Drift\n",
    "\n",
    "This simulation uses a matrix representation of all elements to propagate the Twiss parameters $\\beta_x$, $\\beta_y$, $\\alpha_x$, $\\alpha_y$, as well as propagate orbits for a collection of particles that represent the beam distribution. We’re using 5000 particles to represent the beam. \n",
    "\n",
    "B) At the top of the page, click the \"Control\" tab, and look at the options.\n",
    "- The “twiss_output” module controls calculation of the Twiss parameters.\n",
    "- The “bunched_beam” module tells Elegant to generate a beam. \n",
    "- The “track” module tells Elegant to track it through the lattice. \n",
    "\n",
    "----"
   ]
  },
  {
   "cell_type": "markdown",
   "metadata": {},
   "source": [
    "## 2. Beamline Matching\n",
    "### A) Unmatched Beam \n",
    "\n",
    "Initially, the lattice functions are unmatched. We start with $\\beta_x = \\beta_y =$ 4 m, $\\alpha_x = \\alpha_y = 0$ mid-cell (between quadrupoles). \n",
    "\n",
    "Under the “Visualization” Tab: \n",
    "- Run the simulation by selecting “Start New Simulation.”\n",
    "- Scroll down to find the twiss “twiss_output”. You should see that the lattice functions $\\beta_x$, $\\beta_y$ propagated from the initial conditions are “unmatched\", i.e. the solutions are not periodic. \n",
    "- Similarly, look at the “sigma_output” plot. You should see that the RMS beam sizes S_x,S_y resemble $\\beta_x$, $\\beta_y$ but at a smaller, millimeter-level scale.\n"
   ]
  },
  {
   "cell_type": "markdown",
   "metadata": {},
   "source": [
    "### B) Solving for matched solution\n",
    "\n",
    "In the “Control” tab: \n",
    "- Edit the twiss_output command. On page 1, change “Matched” from “No” to “Yes.” \n",
    "- This instructs Elegant to search for the matched condition. \n",
    "- Save changes and re-run your simulation. (Make sure you are running the beamline “FODOcell”)\n",
    "\n",
    "From the matched lattice function, we can calculate phase advance: \n",
    "- $\\psi_x=\\int \\frac{ds}{\\beta_x(s)}$\n",
    "- Thankfully, Elegant calculates this for you. \n",
    "\n",
    "**Q0) In the next cell, calculate the X and Y phase advances for the single FODO cell. (Search for nux and nuy under “Output Parameters” and recall $\\psi=\\nu*2\\pi$)**"
   ]
  },
  {
   "cell_type": "markdown",
   "metadata": {},
   "source": [
    "$\\psi_x$ = \n",
    "\n",
    "$\\psi_y$ = "
   ]
  },
  {
   "cell_type": "markdown",
   "metadata": {},
   "source": [
    "These are the “phase advance per cell,” which is an important metric for characterizing transport properties of any periodic lattice. The phase advance has to be chosen to avoid instabilities and resonant conditions.\n",
    "Syphers exercise 3.12 derives these expressions for maximum and minimum betatron function for a FODO lattice in the thin-lens approximation: \n",
    "\n",
    "$\\beta_{max}=L \\frac{1 + sin \\psi/2}{sin \\psi}$\n",
    "\n",
    "$\\beta_{min}=L \\frac{1 - sin \\psi/2}{sin \\psi}$\n",
    "\n",
    "\n",
    "Answer the following questions:"
   ]
  },
  {
   "cell_type": "markdown",
   "metadata": {},
   "source": [
    "**Q1) For this cell, calculate $\\beta_{min}$ and $\\beta_{max}$ in two ways:**\n",
    "- thin lense prediction\n",
    "- using elegant (look at twiss_output plot)\n",
    "\n"
   ]
  },
  {
   "cell_type": "markdown",
   "metadata": {},
   "source": [
    "**Q2) What are the average, max and min RMS beam spot sizes for a matched beam in this lattice?**\n",
    "- Use the calculated Twiss parameters and recall that transverse size is $\\sigma_x=\\sqrt{\\beta_x \\epsilon_x}$ \n",
    "- Hint: click on plot points to display values"
   ]
  },
  {
   "cell_type": "markdown",
   "metadata": {},
   "source": [
    "\n",
    "\n",
    "| X dimension           | Value |   Y dimension          | Value|\n",
    "|-----------------------|-------|------------------------|------|\n",
    "| $<\\sigma_x>_s$        | ..... |   $<\\sigma_y>_s$       | .... |\n",
    "| max $\\sigma_x (s)= $  | ..... |  max $\\sigma_y (s)= $  | .... | \n",
    "| min $\\sigma_x (s) = $ | ..... |  min $\\sigma_y (s) = $ | .... | \n",
    "\n",
    "\n",
    "max⁡ $\\frac{\\sigma_{x}}{\\sigma_{y}}=$"
   ]
  },
  {
   "cell_type": "markdown",
   "metadata": {},
   "source": [
    "### C) Matched beam propagation down FODO beamline\n",
    "\n",
    "Now extend your simulation. The lattice “FODObeamline” has 20 repetitions of the same FODO cell. \n",
    "\n",
    "Under Tab:Visualization: \n",
    "- Select “FODObeamline” in the Beamline drop-down menu in the top left\n",
    "- Simulate the beam in this longer (100 m) lattice. \n",
    "- Note the periodicity of the beam envelope as calculated both by the Twiss calculation (Courant-Snyder). \n",
    "\n",
    "**Q3) Confirm that the tune of this lattice is consistent with the 1-cell solution:**    "
   ]
  },
  {
   "cell_type": "markdown",
   "metadata": {},
   "source": [
    "Tune and phase advance over 100 meters:\t\n",
    "\n",
    "$\\nu_x= $  \n",
    "\n",
    "$\\nu_y= $\n",
    "\n",
    "$\\psi_x = $ \n",
    "\n",
    "$\\psi_y = $ "
   ]
  },
  {
   "cell_type": "markdown",
   "metadata": {},
   "source": [
    "Tune and phase advance for 1 cell: \n",
    "\n",
    "$\\nu_x / 20 = $  \n",
    "\n",
    "$\\nu_y / 20 = $\n",
    "\n",
    "$\\psi_x / 20 =$ \n",
    "\n",
    "$\\psi_y /20 = $"
   ]
  },
  {
   "cell_type": "markdown",
   "metadata": {},
   "source": [
    "### D) Propagation of mismatched beam\n",
    "\n",
    "We will initialize our beam with a 10% mismatch and examine the effect this has on transport.  \n",
    "The previous visualization gave a periodic solution with $\\beta_x = \\beta_y = 7.206$ meters and $\\alpha_x = -\\alpha_y = 1.122$. \n",
    "- You can verify $\\beta$ and $\\alpha$ by interacting with the twiss_output plot or downloading the data in CSV format.\n",
    "\n",
    "Under the “Control” Tab and “twiss_output” module: \n",
    "- Initialize a mismatched beam, by setting the following fields:\n",
    "\n",
    "| Parameter  | Value  |   \n",
    "|---|---| \n",
    "| Matched  | No |   \n",
    "|  Beta X  | 7.206 * 1.1 |  \n",
    "|  Alpha X | -1.178 |  \n",
    "|  Beta Y  | 7.206 * 1.1  |\n",
    "|  Alpha Y | 1.178 | \n",
    "\n",
    "\n",
    "You should observe that the envelope solution is not longer periodic with the cell length (5 m), but “beats”/ oscillates about the matched, stationary solution. "
   ]
  },
  {
   "cell_type": "markdown",
   "metadata": {},
   "source": [
    "**Q4) Count the (approximate) number of oscillations in the envelope over the 100 meter beamline. Write your answer here:** \n",
    "\n",
    "Hint, this is not the number of $\\sigma_x$ max or mins. This is the number of ocilations of the whole envelop, i.e. the answer is < 10."
   ]
  },
  {
   "cell_type": "markdown",
   "metadata": {},
   "source": [
    "The centroid oscillates at the betatron frequency, making $\\nu$ oscillations per pass through a periodic structure. \n",
    "\n",
    "**Q5) How many oscillations does the centroid make in 100 m? Write your answer here:**\n",
    "\n",
    "Hint: Look at the “run_setup.centroid” plot and count the approximate number of oscillations in the centroid, or just refer to the tune under twiss_output. If you plot the centroid, you may need to adjust the plot axis.\n"
   ]
  },
  {
   "cell_type": "markdown",
   "metadata": {},
   "source": [
    "### E) Matched and mismatched beam in lattice with weaker focusing\n",
    "\n",
    "We’ll repeat the exercise for a case with weaker focusing than the previous example. We will reduce the quadrupole focusing term K but hold the emittance fixed, so in the RMS envelope equation the relative strength of the focusing term (proportional to K) against the defocusing emittance term (proportional to $\\epsilon$) is less:\n",
    "\n",
    "$\\frac{d^2 \\sigma_x}{ds^2}=-K_x \\sigma_x+  \\frac{\\epsilon_x^2}{\\sigma_x^3}$\n",
    "\n",
    "As you will observe, the matched beam has a more symmetric aspect ratio but also a larger RMS size.\n",
    "- Reduce your focusing strength to |k1|=0.2 m^(-2) for both quadrupoles. \n",
    "- Edit elements under the “Lattice” tab. \n",
    "\n",
    "**Q6) In simulation, calculate the matched envelope values:**"
   ]
  },
  {
   "cell_type": "markdown",
   "metadata": {},
   "source": [
    "$\\psi_x = $ \n",
    "\n",
    "$\\psi_y = $ \n",
    "\n",
    "max $\\sigma_x (s)= $ \n",
    "\n",
    "min $\\sigma_x (s) = $ \n",
    "\n",
    "$<\\sigma_x>_s$  =\n",
    "\n",
    "max⁡ $\\frac{\\sigma_{x}}{\\sigma_{y}}=$\n",
    "\n",
    "----"
   ]
  }
 ],
 "metadata": {
  "kernelspec": {
   "display_name": "Python 3",
   "language": "python",
   "name": "python3"
  },
  "language_info": {
   "codemirror_mode": {
    "name": "ipython",
    "version": 3
   },
   "file_extension": ".py",
   "mimetype": "text/x-python",
   "name": "python",
   "nbconvert_exporter": "python",
   "pygments_lexer": "ipython3",
   "version": "3.9.1+"
  }
 },
 "nbformat": 4,
 "nbformat_minor": 4
}
